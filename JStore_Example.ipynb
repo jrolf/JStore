{
 "cells": [
  {
   "cell_type": "code",
   "execution_count": 1,
   "metadata": {
    "collapsed": true
   },
   "outputs": [],
   "source": [
    "# The purpose of JStore is to provide a simple \n",
    "# read/write capability for compound python objects.\n",
    "# These objects cannot easily be stored in a SQL DB\n",
    "# because they are not garaunteed to have a flat structure.\n",
    "\n",
    "# MongoDB and other NoSQL implementations are useful to \n",
    "# tackle this kind of problem, but they require that the\n",
    "# user spins up a server of some sort in order to use the\n",
    "# database. JStore is created for instances when simple and \n",
    "# local document storage is sufficient for dev needs.  "
   ]
  },
  {
   "cell_type": "code",
   "execution_count": 2,
   "metadata": {
    "collapsed": false
   },
   "outputs": [],
   "source": [
    "##############################################################\n",
    "##############################################################"
   ]
  },
  {
   "cell_type": "code",
   "execution_count": 3,
   "metadata": {
    "collapsed": false
   },
   "outputs": [],
   "source": [
    "# Import the code from 'jstore.py' script that is located \n",
    "# in the same directory (folder) as this python notebook:\n",
    "from jstore import *"
   ]
  },
  {
   "cell_type": "code",
   "execution_count": 4,
   "metadata": {
    "collapsed": false
   },
   "outputs": [],
   "source": [
    "# Example Compound Python Object (CPO); \n",
    "# (consisting of some combination of lists and dicts)\n",
    "obj = [2,'34',5.67,['Cat','dOG'],\n",
    "       {1:'qwerty','super':'man','twins':2,'Pi':3.14159},\n",
    "       57,'moneyball'] "
   ]
  },
  {
   "cell_type": "code",
   "execution_count": 5,
   "metadata": {
    "collapsed": false
   },
   "outputs": [],
   "source": [
    "# Deposit a CPO to a local text file like this:\n",
    "fn = 'DATA/object.json'\n",
    "write_json(fn,obj)"
   ]
  },
  {
   "cell_type": "code",
   "execution_count": 6,
   "metadata": {
    "collapsed": true
   },
   "outputs": [],
   "source": [
    "# Now create a new CPO by retrieving data from the text file:\n",
    "obj2 = read_json(fn)"
   ]
  },
  {
   "cell_type": "code",
   "execution_count": 7,
   "metadata": {
    "collapsed": false
   },
   "outputs": [
    {
     "name": "stdout",
     "output_type": "stream",
     "text": [
      "[2, '34', 5.67, ['Cat', 'dOG'], {1: 'qwerty', 'Pi': 3.14159, 'twins': 2, 'super': 'man'}, 57, 'moneyball']\n"
     ]
    }
   ],
   "source": [
    "# Examine the contents of Object2:\n",
    "print obj2 "
   ]
  },
  {
   "cell_type": "code",
   "execution_count": 8,
   "metadata": {
    "collapsed": false
   },
   "outputs": [
    {
     "name": "stdout",
     "output_type": "stream",
     "text": [
      "True\n"
     ]
    }
   ],
   "source": [
    "# Test if the original and retrieved CPOs are identical:  \n",
    "print obj == obj2 "
   ]
  },
  {
   "cell_type": "code",
   "execution_count": 9,
   "metadata": {
    "collapsed": false
   },
   "outputs": [],
   "source": [
    "# As an added benefit, you can use pathnames to a non-existing\n",
    "# directory sequence and th code will create the local folders\n",
    "# for you automatically to complete the desired path.\n",
    "fn = 'DATA/Sub1/Sub2/object.json'\n",
    "write_json(fn,obj) "
   ]
  },
  {
   "cell_type": "code",
   "execution_count": 10,
   "metadata": {
    "collapsed": false
   },
   "outputs": [],
   "source": [
    "##############################################################\n",
    "##############################################################"
   ]
  },
  {
   "cell_type": "code",
   "execution_count": 11,
   "metadata": {
    "collapsed": false
   },
   "outputs": [],
   "source": [
    "# [END] "
   ]
  },
  {
   "cell_type": "code",
   "execution_count": null,
   "metadata": {
    "collapsed": true
   },
   "outputs": [],
   "source": []
  },
  {
   "cell_type": "code",
   "execution_count": null,
   "metadata": {
    "collapsed": true
   },
   "outputs": [],
   "source": []
  },
  {
   "cell_type": "code",
   "execution_count": null,
   "metadata": {
    "collapsed": true
   },
   "outputs": [],
   "source": []
  },
  {
   "cell_type": "code",
   "execution_count": null,
   "metadata": {
    "collapsed": true
   },
   "outputs": [],
   "source": []
  },
  {
   "cell_type": "code",
   "execution_count": null,
   "metadata": {
    "collapsed": true
   },
   "outputs": [],
   "source": []
  },
  {
   "cell_type": "code",
   "execution_count": null,
   "metadata": {
    "collapsed": true
   },
   "outputs": [],
   "source": []
  },
  {
   "cell_type": "code",
   "execution_count": null,
   "metadata": {
    "collapsed": true
   },
   "outputs": [],
   "source": []
  }
 ],
 "metadata": {
  "anaconda-cloud": {},
  "kernelspec": {
   "display_name": "Python [default]",
   "language": "python",
   "name": "python2"
  },
  "language_info": {
   "codemirror_mode": {
    "name": "ipython",
    "version": 2
   },
   "file_extension": ".py",
   "mimetype": "text/x-python",
   "name": "python",
   "nbconvert_exporter": "python",
   "pygments_lexer": "ipython2",
   "version": "2.7.12"
  }
 },
 "nbformat": 4,
 "nbformat_minor": 1
}
